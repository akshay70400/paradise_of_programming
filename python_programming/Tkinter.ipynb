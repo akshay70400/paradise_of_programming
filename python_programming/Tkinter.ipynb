{
 "cells": [
  {
   "cell_type": "markdown",
   "id": "531cbd22-c1f7-4d4e-a85e-05507c4a39b6",
   "metadata": {},
   "source": [
    "Tkinter is a standard library Python that used for GUI application. Tkinter with Python offers a straightforward and fast way to create GUI applications. Tk GUI works on the object-oriented approach which makes it a powerful library. Tkinter is widely available for all operating systems. It is pre-install in the Python. "
   ]
  }
 ],
 "metadata": {
  "kernelspec": {
   "display_name": "Python 3 (ipykernel)",
   "language": "python",
   "name": "python3"
  },
  "language_info": {
   "codemirror_mode": {
    "name": "ipython",
    "version": 3
   },
   "file_extension": ".py",
   "mimetype": "text/x-python",
   "name": "python",
   "nbconvert_exporter": "python",
   "pygments_lexer": "ipython3",
   "version": "3.9.13"
  }
 },
 "nbformat": 4,
 "nbformat_minor": 5
}
