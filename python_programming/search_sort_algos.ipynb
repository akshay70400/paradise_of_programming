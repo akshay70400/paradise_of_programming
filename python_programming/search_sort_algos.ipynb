{
 "cells": [
  {
   "cell_type": "markdown",
   "id": "5aa34fcd-710a-4f4b-8055-5327c7ae7a34",
   "metadata": {},
   "source": [
    "Linear Search\n",
    "Binary Search"
   ]
  }
 ],
 "metadata": {
  "kernelspec": {
   "display_name": "Python 3 (ipykernel)",
   "language": "python",
   "name": "python3"
  },
  "language_info": {
   "codemirror_mode": {
    "name": "ipython",
    "version": 3
   },
   "file_extension": ".py",
   "mimetype": "text/x-python",
   "name": "python",
   "nbconvert_exporter": "python",
   "pygments_lexer": "ipython3",
   "version": "3.9.13"
  }
 },
 "nbformat": 4,
 "nbformat_minor": 5
}
