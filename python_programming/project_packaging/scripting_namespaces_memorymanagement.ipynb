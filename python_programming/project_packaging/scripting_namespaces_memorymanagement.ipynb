{
 "cells": [
  {
   "cell_type": "markdown",
   "id": "93e817a7",
   "metadata": {},
   "source": [
    "### Namespaces"
   ]
  },
  {
   "cell_type": "raw",
   "id": "59492061",
   "metadata": {},
   "source": [
    "-Everything in python is object\n",
    "a=10: a is name \n",
    "-Namespaces is nothing but A MAPPING BETWEEN NAME AND THE OBJECT YOU DEFINE.\n",
    "-To ensure the names stored are unique and can be used without conflict.\n",
    "-Nothing but collection of names.\n",
    "-DIFFERENT NAMESPACES COEXISTS at a given time but are completely isolated.\n",
    "-Types:-\n",
    "    Built In Namespace\n",
    "    Global Namespace(Module)\n",
    "    Local namespace(Function)\n",
    "-On similar lines, the Python interpreter understands what exact method or variable one is trying to point to in the code, depending upon the namespace. So, the division of the word itself gives a little more information. Its Name (which means name, a unique identifier) + Space(which talks something related to scope). Here, a name might be of any Python method or variable and space depends upon the location from where is trying to access a variable or a method.\n",
    "-Namespaces are implemented as dictionary\n",
    "    name(key):object(value)\n",
    "        \n",
    "-Order of finding a name:\n",
    "    local -> global -> builtIn"
   ]
  },
  {
   "cell_type": "raw",
   "id": "6fcc31b2",
   "metadata": {},
   "source": [
    "Built In namespaces:- \n",
    "    -Created when we start the python interpreter\n",
    "    -This is the reason we can use all builtin functions\n",
    "    -print, id, etc"
   ]
  },
  {
   "cell_type": "raw",
   "id": "d68b52cb",
   "metadata": {},
   "source": [
    "Global Namespaces(Module):-\n",
    "    -It is part of main module\n",
    "    -It is created when module definition is read\n",
    "    -Live as long as interpreter is there."
   ]
  },
  {
   "cell_type": "raw",
   "id": "fd93490c",
   "metadata": {},
   "source": [
    "Local Namespace(Function):-\n",
    "    -whenever a function is called the local namespace is created for all names in function."
   ]
  },
  {
   "cell_type": "code",
   "execution_count": 7,
   "id": "2ac29218",
   "metadata": {},
   "outputs": [
    {
     "name": "stdout",
     "output_type": "stream",
     "text": [
      "{'__module__': '__main__', 'X': 10, '_ajay__init': <function ajay.__init at 0x000000A17395C4C0>, 'sqr': <function ajay.sqr at 0x000000A17395C550>, '__dict__': <attribute '__dict__' of 'ajay' objects>, '__weakref__': <attribute '__weakref__' of 'ajay' objects>, '__doc__': None}\n",
      "\n",
      " {}\n",
      "\n",
      " ['__class__', '__contains__', '__delattr__', '__delitem__', '__dir__', '__doc__', '__eq__', '__format__', '__ge__', '__getattribute__', '__getitem__', '__gt__', '__hash__', '__init__', '__init_subclass__', '__iter__', '__le__', '__len__', '__lt__', '__ne__', '__new__', '__reduce__', '__reduce_ex__', '__repr__', '__reversed__', '__setattr__', '__setitem__', '__sizeof__', '__str__', '__subclasshook__', 'clear', 'copy', 'fromkeys', 'get', 'items', 'keys', 'pop', 'popitem', 'setdefault', 'update', 'values']\n"
     ]
    }
   ],
   "source": [
    "class ajay:\n",
    "    X=10\n",
    "    def __init(self,n):\n",
    "        self.n=n\n",
    "    def sqr(self):\n",
    "        f=self.n*8199\n",
    "        print(self.n**self.n)\n",
    "    pass\n",
    "\n",
    "print(ajay.__dict__)\n",
    "print(\"\\n\",ajay.sqr.__dict__)\n",
    "print(\"\\n\",dir(ajay.sqr.__dict__))"
   ]
  },
  {
   "cell_type": "raw",
   "id": "cfa398fd",
   "metadata": {},
   "source": [
    "#Builtin namespaces\n",
    "print(dir(__builtins__))\n",
    "\n",
    "#Global namespace\n",
    "a=10\n",
    "globals()\n",
    "\n",
    "#Namespaces in your class ajay:\n",
    "print(ajay.__dict__)"
   ]
  },
  {
   "cell_type": "code",
   "execution_count": 4,
   "id": "b882ca6f",
   "metadata": {
    "scrolled": true
   },
   "outputs": [
    {
     "name": "stdout",
     "output_type": "stream",
     "text": [
      "['ArithmeticError', 'AssertionError', 'AttributeError', 'BaseException', 'BlockingIOError', 'BrokenPipeError', 'BufferError', 'BytesWarning', 'ChildProcessError', 'ConnectionAbortedError', 'ConnectionError', 'ConnectionRefusedError', 'ConnectionResetError', 'DeprecationWarning', 'EOFError', 'Ellipsis', 'EnvironmentError', 'Exception', 'False', 'FileExistsError', 'FileNotFoundError', 'FloatingPointError', 'FutureWarning', 'GeneratorExit', 'IOError', 'ImportError', 'ImportWarning', 'IndentationError', 'IndexError', 'InterruptedError', 'IsADirectoryError', 'KeyError', 'KeyboardInterrupt', 'LookupError', 'MemoryError', 'ModuleNotFoundError', 'NameError', 'None', 'NotADirectoryError', 'NotImplemented', 'NotImplementedError', 'OSError', 'OverflowError', 'PendingDeprecationWarning', 'PermissionError', 'ProcessLookupError', 'RecursionError', 'ReferenceError', 'ResourceWarning', 'RuntimeError', 'RuntimeWarning', 'StopAsyncIteration', 'StopIteration', 'SyntaxError', 'SyntaxWarning', 'SystemError', 'SystemExit', 'TabError', 'TimeoutError', 'True', 'TypeError', 'UnboundLocalError', 'UnicodeDecodeError', 'UnicodeEncodeError', 'UnicodeError', 'UnicodeTranslateError', 'UnicodeWarning', 'UserWarning', 'ValueError', 'Warning', 'WindowsError', 'ZeroDivisionError', '__IPYTHON__', '__build_class__', '__debug__', '__doc__', '__import__', '__loader__', '__name__', '__package__', '__spec__', 'abs', 'all', 'any', 'ascii', 'bin', 'bool', 'breakpoint', 'bytearray', 'bytes', 'callable', 'chr', 'classmethod', 'compile', 'complex', 'copyright', 'credits', 'delattr', 'dict', 'dir', 'display', 'divmod', 'enumerate', 'eval', 'exec', 'filter', 'float', 'format', 'frozenset', 'get_ipython', 'getattr', 'globals', 'hasattr', 'hash', 'help', 'hex', 'id', 'input', 'int', 'isinstance', 'issubclass', 'iter', 'len', 'license', 'list', 'locals', 'map', 'max', 'memoryview', 'min', 'next', 'object', 'oct', 'open', 'ord', 'pow', 'print', 'property', 'range', 'repr', 'reversed', 'round', 'set', 'setattr', 'slice', 'sorted', 'staticmethod', 'str', 'sum', 'super', 'tuple', 'type', 'vars', 'zip']\n"
     ]
    }
   ],
   "source": [
    "#Builtin namespaces\n",
    "print(dir(__builtins__))"
   ]
  },
  {
   "cell_type": "code",
   "execution_count": 3,
   "id": "26a73ae0",
   "metadata": {
    "scrolled": true
   },
   "outputs": [
    {
     "data": {
      "text/plain": [
       "{'__name__': '__main__',\n",
       " '__doc__': 'Automatically created module for IPython interactive environment',\n",
       " '__package__': None,\n",
       " '__loader__': None,\n",
       " '__spec__': None,\n",
       " '__builtin__': <module 'builtins' (built-in)>,\n",
       " '__builtins__': <module 'builtins' (built-in)>,\n",
       " '_ih': ['',\n",
       "  '#Builtin namespaces\\nprint(dir())',\n",
       "  '#Global namespace\\na=10\\ntype(globals())',\n",
       "  '#Global namespace\\na=10\\nglobals()'],\n",
       " '_oh': {2: dict},\n",
       " '_dh': [\"C:\\\\Users\\\\admin\\\\Desktop\\\\Data Science\\\\Python Language\\\\Ak's Lectures\"],\n",
       " 'In': ['',\n",
       "  '#Builtin namespaces\\nprint(dir())',\n",
       "  '#Global namespace\\na=10\\ntype(globals())',\n",
       "  '#Global namespace\\na=10\\nglobals()'],\n",
       " 'Out': {2: dict},\n",
       " 'get_ipython': <bound method InteractiveShell.get_ipython of <ipykernel.zmqshell.ZMQInteractiveShell object at 0x00000082B7155EE0>>,\n",
       " 'exit': <IPython.core.autocall.ZMQExitAutocall at 0x82b7f74820>,\n",
       " 'quit': <IPython.core.autocall.ZMQExitAutocall at 0x82b7f74820>,\n",
       " '_': dict,\n",
       " '__': '',\n",
       " '___': '',\n",
       " '_i': '#Global namespace\\na=10\\ntype(globals())',\n",
       " '_ii': '#Builtin namespaces\\nprint(dir())',\n",
       " '_iii': '',\n",
       " '_i1': '#Builtin namespaces\\nprint(dir())',\n",
       " '_i2': '#Global namespace\\na=10\\ntype(globals())',\n",
       " 'a': 10,\n",
       " '_2': dict,\n",
       " '_i3': '#Global namespace\\na=10\\nglobals()'}"
      ]
     },
     "execution_count": 3,
     "metadata": {},
     "output_type": "execute_result"
    }
   ],
   "source": [
    "#Global namespace\n",
    "a=10\n",
    "globals()"
   ]
  },
  {
   "cell_type": "markdown",
   "id": "0ca981c5",
   "metadata": {},
   "source": [
    "## MEMORY MANAGEMENT"
   ]
  },
  {
   "cell_type": "markdown",
   "id": "544279f1",
   "metadata": {},
   "source": [
    "x=10\n",
    "\n",
    "Stack memory\n",
    "    Stores all references (x)\n",
    "Private Heap memory\n",
    "    Stores all objects (10)\n",
    "    \n",
    "Dead object\n",
    "Garbage collector programme\n",
    "Python memory manager\n",
    "Memory allocation\n",
    "\n",
    "The algorithm used for garbage collection is called as \"reference counting\"."
   ]
  },
  {
   "cell_type": "raw",
   "id": "6aa084ab",
   "metadata": {},
   "source": [
    "-Methods and variables are created on stack memory\n",
    "-Object and instance variables are created on heap memory\n",
    "-Whenever a function is called, a new stack frame is created in stable memory\n",
    "-Stack frames are destroyed as soon as function/method returns."
   ]
  },
  {
   "cell_type": "code",
   "execution_count": 6,
   "id": "eae74c35",
   "metadata": {},
   "outputs": [
    {
     "name": "stdout",
     "output_type": "stream",
     "text": [
      "140724972496976\n",
      "140724972496976\n"
     ]
    }
   ],
   "source": [
    "x=10\n",
    "print(id(x))\n",
    "print(id(10))"
   ]
  },
  {
   "cell_type": "code",
   "execution_count": 7,
   "id": "ede9ed61",
   "metadata": {},
   "outputs": [
    {
     "name": "stdout",
     "output_type": "stream",
     "text": [
      "140724972496976\n",
      "140724972496976\n"
     ]
    }
   ],
   "source": [
    "x=10\n",
    "y=10\n",
    "print(id(x))\n",
    "print(id(y))"
   ]
  },
  {
   "cell_type": "code",
   "execution_count": 8,
   "id": "384a63f9",
   "metadata": {},
   "outputs": [
    {
     "name": "stdout",
     "output_type": "stream",
     "text": [
      "140724972496976\n"
     ]
    }
   ],
   "source": [
    "z=10\n",
    "print(id(z))"
   ]
  },
  {
   "cell_type": "code",
   "execution_count": 9,
   "id": "205b9655",
   "metadata": {},
   "outputs": [
    {
     "name": "stdout",
     "output_type": "stream",
     "text": [
      "140724972500208\n"
     ]
    }
   ],
   "source": [
    "x=111\n",
    "print(id(x))"
   ]
  },
  {
   "cell_type": "code",
   "execution_count": 10,
   "id": "036d96b3",
   "metadata": {},
   "outputs": [
    {
     "name": "stdout",
     "output_type": "stream",
     "text": [
      "140724972500208\n"
     ]
    }
   ],
   "source": [
    "f=111\n",
    "print(id(f))"
   ]
  },
  {
   "cell_type": "code",
   "execution_count": 11,
   "id": "41e67bdd",
   "metadata": {},
   "outputs": [
    {
     "name": "stdout",
     "output_type": "stream",
     "text": [
      "561458609232\n"
     ]
    }
   ],
   "source": [
    "x=500\n",
    "print(id(x))"
   ]
  },
  {
   "cell_type": "code",
   "execution_count": 12,
   "id": "eafa292d",
   "metadata": {},
   "outputs": [],
   "source": [
    "#main\n",
    "y=5"
   ]
  },
  {
   "cell_type": "code",
   "execution_count": 13,
   "id": "a312511d",
   "metadata": {},
   "outputs": [],
   "source": [
    "class dhoni:\n",
    "    def __init__(self,x):\n",
    "        self.x=w\n",
    "    def batting(self):\n",
    "        return self.x\n",
    "    \n",
    "# main\n",
    "\n",
    "c=dhoni(4)"
   ]
  },
  {
   "cell_type": "code",
   "execution_count": null,
   "id": "9da67df9",
   "metadata": {},
   "outputs": [],
   "source": [
    "Stack memory:c, 2 stacks of 2 methods, x, self,\n",
    "\n",
    "Heap memory:  4, w, dhoni"
   ]
  },
  {
   "cell_type": "code",
   "execution_count": null,
   "id": "f2c4716d",
   "metadata": {},
   "outputs": [],
   "source": []
  }
 ],
 "metadata": {
  "kernelspec": {
   "display_name": "Python 3",
   "language": "python",
   "name": "python3"
  },
  "language_info": {
   "codemirror_mode": {
    "name": "ipython",
    "version": 3
   },
   "file_extension": ".py",
   "mimetype": "text/x-python",
   "name": "python",
   "nbconvert_exporter": "python",
   "pygments_lexer": "ipython3",
   "version": "3.8.8"
  }
 },
 "nbformat": 4,
 "nbformat_minor": 5
}
