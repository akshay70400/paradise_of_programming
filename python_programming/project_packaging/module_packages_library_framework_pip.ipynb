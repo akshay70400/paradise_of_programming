{
 "cells": [
  {
   "cell_type": "markdown",
   "id": "c486ab24",
   "metadata": {},
   "source": [
    "### MODULE"
   ]
  },
  {
   "cell_type": "raw",
   "id": "b3de1f5e",
   "metadata": {},
   "source": [
    "-Any file having extension .py that has collection of functions and classes that can be reused in your programme.\n",
    "-We can import a module using import statement and access the definitions inside it using the dot operator as described above. \n",
    "-Python has over 200 built in modules\n",
    "\n",
    "-IMP modules:-\n",
    "Ex. math.py [pi(), sum(), sin() etc.]Mathematical functions.\n",
    "Ex. statistics\n",
    "Ex. Time\n",
    "Ex. datetime\n",
    "Ex. calender\n",
    "Ex. array\n",
    "Ex. string\n",
    "Ex. os -The os module is one of several modules used to\n",
    "interact with the OS on Python\n",
    "Ex. operator\n",
    "Ex. keyword\n",
    "Ex. functools -Higher‐order functions and operations on callable objects(ex.reduce())"
   ]
  },
  {
   "cell_type": "code",
   "execution_count": 11,
   "id": "6a69f579",
   "metadata": {
    "scrolled": false
   },
   "outputs": [
    {
     "name": "stdout",
     "output_type": "stream",
     "text": [
      "['__doc__', '__loader__', '__name__', '__package__', '__spec__', 'acos', 'acosh', 'asin', 'asinh', 'atan', 'atan2', 'atanh', 'ceil', 'comb', 'copysign', 'cos', 'cosh', 'degrees', 'dist', 'e', 'erf', 'erfc', 'exp', 'expm1', 'fabs', 'factorial', 'floor', 'fmod', 'frexp', 'fsum', 'gamma', 'gcd', 'hypot', 'inf', 'isclose', 'isfinite', 'isinf', 'isnan', 'isqrt', 'ldexp', 'lgamma', 'log', 'log10', 'log1p', 'log2', 'modf', 'nan', 'perm', 'pi', 'pow', 'prod', 'radians', 'remainder', 'sin', 'sinh', 'sqrt', 'tan', 'tanh', 'tau', 'trunc']\n"
     ]
    }
   ],
   "source": [
    "import math\n",
    "print(list(dir(math)))"
   ]
  },
  {
   "cell_type": "code",
   "execution_count": 12,
   "id": "e23c39ed",
   "metadata": {},
   "outputs": [
    {
     "data": {
      "text/plain": [
       "3.141592653589793"
      ]
     },
     "execution_count": 12,
     "metadata": {},
     "output_type": "execute_result"
    }
   ],
   "source": [
    "math.pi"
   ]
  },
  {
   "cell_type": "raw",
   "id": "925899a1",
   "metadata": {},
   "source": [
    "Import with renaming: import math as m\n",
    "We have renamed the math module as m. This can save us typing time in some cases.\n",
    "Note that the name math is not recognized in our scope. \n",
    "Hence, math.pi is invalid, m.pi is the correct implementation.\n",
    "\n",
    "Python from...import statement: from math import pi\n",
    "We can import specific names from a module without importing the module as a whole.\n",
    "We imported only the attribute pi from the module. In such case we don't use the dot operator.\n",
    "\n",
    "Import all names: from math import *\n",
    "We imported all the definitions from the math module. This makes all names except those beginning with an underscore, visible in our scope.\n",
    "Importing everything with the asterisk (*) symbol is not a good programming practice. This can lead to duplicate definitions for an identifier. It also hampers the readability of our code."
   ]
  },
  {
   "cell_type": "raw",
   "id": "c6efd196",
   "metadata": {},
   "source": [
    "A file containing Python code, for e.g.: example.py, is called a module and its module name would be example.\n",
    "We use modules to break down large programs into small manageable and organized files. Furthermore, modules provide reusability of code.\n",
    "We can define our most used functions in a module and import it, instead of copying their definitions into different programs."
   ]
  },
  {
   "cell_type": "raw",
   "id": "0848e3f6",
   "metadata": {},
   "source": [
    "While importing a module, Python looks at several places. Interpreter first looks for a built-in module then (if not found) into a list of directories defined in sys.path. \n",
    "How to change the Module Path? We can use sys.path.append()."
   ]
  },
  {
   "cell_type": "code",
   "execution_count": 13,
   "id": "40f681e6",
   "metadata": {},
   "outputs": [],
   "source": [
    "import math as x"
   ]
  },
  {
   "cell_type": "code",
   "execution_count": 14,
   "id": "1a116abd",
   "metadata": {},
   "outputs": [
    {
     "data": {
      "text/plain": [
       "3.141592653589793"
      ]
     },
     "execution_count": 14,
     "metadata": {},
     "output_type": "execute_result"
    }
   ],
   "source": [
    "x.pi"
   ]
  },
  {
   "cell_type": "code",
   "execution_count": 15,
   "id": "dee6412b",
   "metadata": {},
   "outputs": [],
   "source": [
    "from math import pi,e"
   ]
  },
  {
   "cell_type": "code",
   "execution_count": 16,
   "id": "031fa76b",
   "metadata": {},
   "outputs": [
    {
     "data": {
      "text/plain": [
       "3.141592653589793"
      ]
     },
     "execution_count": 16,
     "metadata": {},
     "output_type": "execute_result"
    }
   ],
   "source": [
    "pi"
   ]
  },
  {
   "cell_type": "code",
   "execution_count": 17,
   "id": "d1e3f412",
   "metadata": {},
   "outputs": [
    {
     "data": {
      "text/plain": [
       "2.718281828459045"
      ]
     },
     "execution_count": 17,
     "metadata": {},
     "output_type": "execute_result"
    }
   ],
   "source": [
    "e"
   ]
  },
  {
   "cell_type": "code",
   "execution_count": 18,
   "id": "ce66e48d",
   "metadata": {},
   "outputs": [],
   "source": [
    "from math import *\n",
    "#To import ALL functions from that module"
   ]
  },
  {
   "cell_type": "raw",
   "id": "d181d5b4",
   "metadata": {},
   "source": [
    "Using import * in python programs is considered a bad habit because this way you are POLLUTING YOUR NAMESPACE, the import * statement imports all the functions and classes into your own namespace, which may clash with the functions you define or functions of other libraries that you import"
   ]
  },
  {
   "cell_type": "code",
   "execution_count": 19,
   "id": "8ed3d307",
   "metadata": {},
   "outputs": [
    {
     "name": "stdout",
     "output_type": "stream",
     "text": [
      "['Counter', 'Decimal', 'Fraction', 'NormalDist', 'StatisticsError', '__all__', '__builtins__', '__cached__', '__doc__', '__file__', '__loader__', '__name__', '__package__', '__spec__', '_coerce', '_convert', '_exact_ratio', '_fail_neg', '_find_lteq', '_find_rteq', '_isfinite', '_normal_dist_inv_cdf', '_ss', '_sum', 'bisect_left', 'bisect_right', 'erf', 'exp', 'fabs', 'fmean', 'fsum', 'geometric_mean', 'groupby', 'harmonic_mean', 'hypot', 'itemgetter', 'log', 'math', 'mean', 'median', 'median_grouped', 'median_high', 'median_low', 'mode', 'multimode', 'numbers', 'pstdev', 'pvariance', 'quantiles', 'random', 'sqrt', 'stdev', 'tau', 'variance']\n"
     ]
    }
   ],
   "source": [
    "import statistics\n",
    "print(list(dir(statistics)))"
   ]
  },
  {
   "cell_type": "code",
   "execution_count": 3,
   "id": "0a053ebf",
   "metadata": {},
   "outputs": [],
   "source": [
    "import sys\n",
    "\n",
    "#The sys module provides information about constants, functions and methods of the Python interpreter. dir(system) gives a summary of the available constants, functions and methods. Another possibility is the help() function. Using help(sys) provides valuable detail information. \n",
    "#The module sys informs e.g. about the maximal recursion depth (sys.getrecursionlimit() ) and provides the possibility to change (sys.setrecursionlimit()) \n",
    "#The current version number of Python can be accessed as well."
   ]
  },
  {
   "cell_type": "code",
   "execution_count": 5,
   "id": "5fae3aed",
   "metadata": {},
   "outputs": [
    {
     "data": {
      "text/plain": [
       "'3.8.8 (default, Apr 13 2021, 15:08:03) [MSC v.1916 64 bit (AMD64)]'"
      ]
     },
     "execution_count": 5,
     "metadata": {},
     "output_type": "execute_result"
    }
   ],
   "source": [
    "sys.version"
   ]
  },
  {
   "cell_type": "code",
   "execution_count": 7,
   "id": "ea118b10",
   "metadata": {},
   "outputs": [
    {
     "data": {
      "text/plain": [
       "['C:\\\\Users\\\\admin\\\\anaconda3\\\\lib\\\\site-packages\\\\ipykernel_launcher.py',\n",
       " '-f',\n",
       " 'C:\\\\Users\\\\admin\\\\AppData\\\\Roaming\\\\jupyter\\\\runtime\\\\kernel-9efa38de-2046-41c3-9acd-be6e3de385d1.json']"
      ]
     },
     "execution_count": 7,
     "metadata": {},
     "output_type": "execute_result"
    }
   ],
   "source": [
    "sys.argv\n",
    "#(sys.argv) is a list, which contains the command-line arguments passed to the script. "
   ]
  },
  {
   "cell_type": "markdown",
   "id": "5ee5a332",
   "metadata": {},
   "source": [
    "### Packages\n",
    "\n",
    "-A directory with collection of modules\n",
    "\n",
    "-must have __init__.py file (if its in other directory) which helps python interpreter. This file can be left empty but we generally place the initialization code for that package in this file.\n",
    "    \n",
    "    -can be empty\n",
    "    -sholud be empty because:\n",
    "    \n",
    "-it helps in making the project moduler\n",
    "\n",
    "-Packages are a way of structuring Python’s module namespace by using “dotted module names”. For example, the module name A.B designates a submodule named B in a package named A."
   ]
  },
  {
   "cell_type": "markdown",
   "id": "d232a437",
   "metadata": {},
   "source": [
    "### Libraries\n",
    "-Its collection of various packages.\n",
    "    \n",
    "    -Numpy - mathematical operations, provides array objects faster than list\n",
    "    -SciPy - complex maths, science, engineering problems\n",
    "    -Matplotlib - Static, animated and interactive data visualization\n",
    "    -Pandas - Data manipulation and analysis. Based on two main data structures(frames, series)\n",
    "    -Seaborn - statistical data visualization\n",
    "    -Tensorflow - deep learning applications\n",
    "    -scikitlearn - to manage ML applications\n",
    "    -Tkinter - Standard GUI library for python"
   ]
  },
  {
   "cell_type": "raw",
   "id": "a07e8435",
   "metadata": {},
   "source": [
    "NUMPY :- a fundamental library for mathematical and scientific computations. The open-source software has functions of linear algebra, Fourier transform, and matrix computations and is mainly used for applications where speed and resources are important. NumPy aims to provide array objects 50x faster than traditional Python lists. Data science libraries including SciPy, Matplotlib, Pandas, Scikit-Learn and Statsmodels are built on top of NumPy. "
   ]
  },
  {
   "cell_type": "raw",
   "id": "2df55a44",
   "metadata": {},
   "source": [
    "SCIPY :- Scientific Python is used for complex mathematics, science and engineering problems. It is built on the NumPy extension and allows developers to manipulate and visualise data. "
   ]
  },
  {
   "cell_type": "raw",
   "id": "b2b417e6",
   "metadata": {},
   "source": [
    "MATPLOTLIB :- Matplotlib is one of the most common libraries in the Python community. It is used for creating static, animated and interactive data visualisations. Matplotlib provides endless customisation and charts. It enables developers to use histograms to scatter, customise and configure plots. The open-source library offers an object-oriented API for integrating plots into applications."
   ]
  },
  {
   "cell_type": "raw",
   "id": "255fe795",
   "metadata": {},
   "source": [
    "PANDAS :- Pandas is used for data manipulation and analyses. It provides fast, flexible and expressive data structures and provides features such as handling of missing data, fancy indexing and data alignment. Pandas provides fast, flexible and expressive data structures that helps developers work with labelled and relational data. It is based on two main data structures– Series, and Frames. "
   ]
  },
  {
   "cell_type": "raw",
   "id": "d5f2037e",
   "metadata": {},
   "source": [
    "SCI-KIT LEARN :- The library built on top of SciPy, NumPy and Matplotlib for handling standard machine learning and data mining applications. SciKit-Learn is an effective tool for predictive data analysis."
   ]
  },
  {
   "cell_type": "raw",
   "id": "c1e1b44a",
   "metadata": {},
   "source": [
    "SEABORN :- Seaborn is Python’s most commonly used library for statistical data visualisation, used for heatmaps and visualisations that summarise data and depict distributions. It is based on Matplotlib and can be used on both data frames and arrays. Seaborn is used for basic plottings– bar graph, line charts and pie charts."
   ]
  },
  {
   "cell_type": "raw",
   "id": "e6a95c34",
   "metadata": {},
   "source": [
    "TENSORFLOW :- TensorFlow is an open-source library used for deep learning applications. it offers a comprehensive and flexible ecosystem of tools, libraries and community resources, enabling developers to build and deploy ML-based applications."
   ]
  },
  {
   "cell_type": "raw",
   "id": "66bc52dd",
   "metadata": {},
   "source": [
    "TKINTER :- Tkinter is the standard GUI library for Python. Python when combined with Tkinter provides a fast and easy way to create GUI applications. Tkinter provides a powerful object-oriented interface to the Tk GUI toolkit."
   ]
  },
  {
   "cell_type": "markdown",
   "id": "920ba8d8",
   "metadata": {},
   "source": [
    "### Framework\n",
    "-Its collection of various libraries. Generally, there are two types of Python framework used while developing applications.\n",
    "\n",
    "1) The full-stack frameworks provide complete support to developers, including necessary elements such as form validation, form generators, and template layouts.\n",
    "    \n",
    "    Django, Web2Py, Pylon\n",
    "    \n",
    "2) The non-full-stack frameworks do not provide additional functionalities and features to the users. Developers need to add a lot of code and other things manually. \n",
    "    \n",
    "    Flask, Bottle, CherryPy, Tornado"
   ]
  },
  {
   "cell_type": "raw",
   "id": "d14829ac",
   "metadata": {},
   "source": [
    "Django and Flask are two of the most popular web framework for Python. Flask showed up as an alternative to Django, as designers needed to have more flexibility that would permit them to decide how they want to implement things, while on the other hand, Django does not permits alteration of their modules to such degree. Flask is truly so straightforward and direct that working in it permits an experienced Python designer making ventures inside truly tight timeframes. \n",
    "\n",
    "Here are a few Flask and Django use cases: Flask is extraordinary for building basic locales with inactive substance, like blogs; it gives all the usefulness you would like and permits for customization to a tremendous degree whereas Django is incredible for building complex destinations with energetic substance, with adaptability in intellect; enormous ventures that require out-of-the-box arrangements can be sent truly quick. Flask is idealized for creating straightforward web apps Django permits sending more complicated web apps quicker, as its modules are preconfigured to supply quick app improvement and arrangement. "
   ]
  },
  {
   "cell_type": "markdown",
   "id": "b5e5a38c",
   "metadata": {},
   "source": [
    "### Anaconda prompt\n",
    "\n",
    "pip - package installer for python\n",
    "\n",
    "pip install panda\n",
    "\n",
    "pip uninstall panda\n",
    "\n",
    "pip install requests=2.3.1 - to install specific version\n",
    "\n",
    "pip install upgrade pip"
   ]
  },
  {
   "cell_type": "code",
   "execution_count": 1,
   "id": "145301fa",
   "metadata": {},
   "outputs": [],
   "source": [
    "import pandas"
   ]
  },
  {
   "cell_type": "code",
   "execution_count": 3,
   "id": "678b98d8",
   "metadata": {},
   "outputs": [
    {
     "data": {
      "text/plain": [
       "5"
      ]
     },
     "execution_count": 3,
     "metadata": {},
     "output_type": "execute_result"
    }
   ],
   "source": [
    "pandas.eval(5)"
   ]
  },
  {
   "cell_type": "code",
   "execution_count": 4,
   "id": "33d29ab6",
   "metadata": {},
   "outputs": [],
   "source": [
    "import os"
   ]
  },
  {
   "cell_type": "code",
   "execution_count": 1,
   "id": "7d051302",
   "metadata": {},
   "outputs": [],
   "source": [
    "#os.listdir()"
   ]
  },
  {
   "cell_type": "code",
   "execution_count": 6,
   "id": "c9ab330c",
   "metadata": {},
   "outputs": [
    {
     "data": {
      "text/plain": [
       "\"C:\\\\Users\\\\admin\\\\Desktop\\\\Python Development\\\\Ak's Lectures\""
      ]
     },
     "execution_count": 6,
     "metadata": {},
     "output_type": "execute_result"
    }
   ],
   "source": [
    "os.getcwd()"
   ]
  },
  {
   "cell_type": "code",
   "execution_count": 7,
   "id": "e2e53d28",
   "metadata": {},
   "outputs": [],
   "source": [
    "import datetime"
   ]
  },
  {
   "cell_type": "code",
   "execution_count": 9,
   "id": "04882daa",
   "metadata": {},
   "outputs": [
    {
     "data": {
      "text/plain": [
       "datetime.datetime(2021, 7, 28, 21, 2, 5, 853131)"
      ]
     },
     "execution_count": 9,
     "metadata": {},
     "output_type": "execute_result"
    }
   ],
   "source": [
    "datetime.datetime.now()"
   ]
  }
 ],
 "metadata": {
  "kernelspec": {
   "display_name": "Python 3",
   "language": "python",
   "name": "python3"
  },
  "language_info": {
   "codemirror_mode": {
    "name": "ipython",
    "version": 3
   },
   "file_extension": ".py",
   "mimetype": "text/x-python",
   "name": "python",
   "nbconvert_exporter": "python",
   "pygments_lexer": "ipython3",
   "version": "3.8.8"
  }
 },
 "nbformat": 4,
 "nbformat_minor": 5
}
